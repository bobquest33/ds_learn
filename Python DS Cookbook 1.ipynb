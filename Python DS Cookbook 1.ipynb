{
 "cells": [
  {
   "cell_type": "markdown",
   "metadata": {},
   "source": [
    "# Python Data Science CookBook: Chapter 1\n",
    "\n",
    "In this chapter, we will cover the following recipes:\n",
    "\n",
    "- Using dictionary objects\n",
    "- Working with a dictionary of dictionaries\n",
    "- Working with tuples\n",
    "- Using sets\n",
    "- Writing a list\n",
    "- Creating a list from another list - list comprehension\n",
    "- Using iterators\n",
    "- Generating an iterator and a generator\n",
    "- Using iterables\n",
    "- Passing a function as a variable\n",
    "- Embedding functions in another function\n",
    "- Passing a function as a parameter\n",
    "- Returning a function\n",
    "- Altering the function behavior with decorators\n",
    "- Creating anonymous functions with lambda\n",
    "- Using the map function\n",
    "- Working with filters\n",
    "- Using zip and izip\n",
    "- Processing arrays from the tabular data\n",
    "- Preprocessing the columns\n",
    "- Sorting lists\n",
    "- Sorting with a key\n",
    "- Working with itertools\n",
    "\n",
    "### Using dictionary objects\n",
    "\n",
    "Let’s proceed to demonstrate how to operate a dictionary in Python. Let’s use a simple\n",
    "sentence to demonstrate the use of a dictionary. We will follow it up with an actual\n",
    "dictionary creation:"
   ]
  },
  {
   "cell_type": "code",
   "execution_count": 1,
   "metadata": {
    "collapsed": false
   },
   "outputs": [
    {
     "name": "stdout",
     "output_type": "stream",
     "text": [
      "{'a': 2, 'A': 1, 'Peter': 4, 'of': 4, 'Piper': 4, 'pickled': 3, 'pickledpeppers': 1, 'picked': 4, 'peppers': 3, 'the': 1, 'peck': 4, 'Wheres': 1, 'If': 1}\n"
     ]
    }
   ],
   "source": [
    "# 1.Load a variable with sentences\n",
    "sentence = \"Peter Piper picked a peck of pickled peppers A peck of pickled\\\n",
    "peppers Peter Piper picked If Peter Piper picked a peck of pickled \\\n",
    "peppers Wheres the peck of pickled peppers Peter Piper picked\"\n",
    "\n",
    "# 2. Initialize a dictionary object\n",
    "word_dict = {}\n",
    "\n",
    "# 3. Perform the word count\n",
    "for word in sentence.split():\n",
    "    if word not in word_dict:\n",
    "        word_dict[word] =1\n",
    "    else:\n",
    "        word_dict[word] += 1\n",
    "# 4. Print the output\n",
    "print (word_dict)"
   ]
  },
  {
   "cell_type": "code",
   "execution_count": 2,
   "metadata": {
    "collapsed": false
   },
   "outputs": [
    {
     "name": "stdout",
     "output_type": "stream",
     "text": [
      "{'a': 2, 'A': 1, 'Peter': 4, 'of': 4, 'Piper': 4, 'pickled': 3, 'pickledpeppers': 1, 'picked': 4, 'peppers': 3, 'the': 1, 'peck': 4, 'Wheres': 1, 'If': 1}\n"
     ]
    }
   ],
   "source": [
    "# Step 3 revisited setting default value for each key\n",
    "word_dict ={}\n",
    "for word in sentence.split():\n",
    "    word_dict.setdefault(word,0)\n",
    "    word_dict[word]+=1\n",
    "\n",
    "# Print the output\n",
    "print (word_dict)    "
   ]
  },
  {
   "cell_type": "code",
   "execution_count": 3,
   "metadata": {
    "collapsed": false
   },
   "outputs": [
    {
     "name": "stdout",
     "output_type": "stream",
     "text": [
      "defaultdict(<type 'int'>, {'a': 2, 'A': 1, 'Peter': 4, 'of': 4, 'Piper': 4, 'pickled': 3, 'pickledpeppers': 1, 'picked': 4, 'peppers': 3, 'the': 1, 'peck': 4, 'Wheres': 1, 'If': 1})\n"
     ]
    }
   ],
   "source": [
    "# Using defaultdict class\n",
    "from collections import defaultdict\n",
    "sentence = \"Peter Piper picked a peck of pickled peppers A peck of pickled\\\n",
    "peppers Peter Piper picked If Peter Piper picked a peck of pickled \\\n",
    "peppers Wheres the peck of pickled peppers Peter Piper picked\"\n",
    "\n",
    "word_dict = defaultdict(int)\n",
    "\n",
    "for word in sentence.split():\n",
    "    word_dict[word]+=1\n",
    "# Note the output here it will be an abject of defaultdict\n",
    "print word_dict"
   ]
  },
  {
   "cell_type": "code",
   "execution_count": 5,
   "metadata": {
    "collapsed": false
   },
   "outputs": [
    {
     "name": "stdout",
     "output_type": "stream",
     "text": [
      "4\n",
      "Counter({'Peter': 4, 'of': 4, 'Piper': 4, 'picked': 4, 'peck': 4, 'pickled': 3, 'peppers': 3, 'a': 2, 'A': 1, 'pickledpeppers': 1, 'the': 1, 'Wheres': 1, 'If': 1})\n"
     ]
    }
   ],
   "source": [
    "# Now we look at Counters a  dictionary subclass to count the hashable objects.\n",
    "from collections import Counter\n",
    "sentence = \"Peter Piper picked a peck of pickled peppers A peck of pickled\\\n",
    "peppers Peter Piper picked If Peter Piper picked a peck of pickled \\\n",
    "peppers Wheres the peck of pickled peppers Peter Piper picked\"\n",
    "\n",
    "words = sentence.split()\n",
    "# It automatically counts the occurance of an item in the list\n",
    "word_count = Counter(words)\n",
    "\n",
    "print word_count['Peter']\n",
    "print word_count"
   ]
  },
  {
   "cell_type": "code",
   "execution_count": 9,
   "metadata": {
    "collapsed": false
   },
   "outputs": [
    {
     "name": "stdout",
     "output_type": "stream",
     "text": [
      "OrderedDict([('A', 1), ('If', 1), ('Peter', 4), ('Piper', 4), ('Wheres', 1), ('a', 2), ('of', 4), ('peck', 4), ('peppers', 3), ('picked', 4), ('pickled', 3), ('pickledpeppers', 1), ('the', 1)])\n",
      "OrderedDict([('A', 1), ('pickledpeppers', 1), ('the', 1), ('Wheres', 1), ('If', 1), ('a', 2), ('pickled', 3), ('peppers', 3), ('Peter', 4), ('of', 4), ('Piper', 4), ('picked', 4), ('peck', 4)])\n",
      "OrderedDict([('a', 2), ('A', 1), ('of', 4), ('If', 1), ('the', 1), ('peck', 4), ('Peter', 4), ('Piper', 4), ('picked', 4), ('Wheres', 1), ('pickled', 3), ('peppers', 3), ('pickledpeppers', 1)])\n"
     ]
    }
   ],
   "source": [
    "# Using OrderedDict class\n",
    "from collections import OrderedDict\n",
    "sentence = \"Peter Piper picked a peck of pickled peppers A peck of pickled\\\n",
    "peppers Peter Piper picked If Peter Piper picked a peck of pickled \\\n",
    "peppers Wheres the peck of pickled peppers Peter Piper picked\"\n",
    "\n",
    "word_dict = {}\n",
    "\n",
    "for word in sentence.split():\n",
    "    word_dict.setdefault(word,0)\n",
    "    word_dict[word]+=1\n",
    "    \n",
    "# dictionary sorted by key\n",
    "print OrderedDict(sorted(word_dict.items(), key=lambda t: t[0]))\n",
    "\n",
    "# dictionary sorted by value\n",
    "print OrderedDict(sorted(word_dict.items(), key=lambda t: t[1]))\n",
    "\n",
    "# dictionary sorted by length of the key string\n",
    "print OrderedDict(sorted(word_dict.items(), key=lambda t: len(t[0])))\n",
    "\n",
    "# Note: The new sorted dictionaries maintain their sort order when entries are deleted. \n",
    "# But when new keys are added, the keys are appended to the end and the sort is not maintained."
   ]
  },
  {
   "cell_type": "markdown",
   "metadata": {},
   "source": [
    "### Working with a dictionary of dictionaries\n",
    "\n",
    "Let’s look at an example to understand how to use dictionaries in a dictionary.\n",
    "We will create the user_movie_rating dictionary using an anonymous function to\n",
    "demonstrate the concept of a dictionary of dictionaries."
   ]
  },
  {
   "cell_type": "code",
   "execution_count": 10,
   "metadata": {
    "collapsed": false
   },
   "outputs": [
    {
     "name": "stdout",
     "output_type": "stream",
     "text": [
      "defaultdict(<function <lambda> at 0x03083670>, {'Huntsman': defaultdict(<type 'int'>, {'SW1': 4, 'SW2': 4, 'LOR1': 1, 'LOR3': 1, 'LOR2': 2}), 'Snipe': defaultdict(<type 'int'>, {'SW1': 2, 'SW2': 1, 'LOR1': 3, 'LOR3': 4, 'LOR2': 4}), 'Alice': defaultdict(<type 'int'>, {'SW1': 5, 'SW2': 3, 'LOR1': 4, 'LOR3': 3, 'LOR2': 5})})\n"
     ]
    }
   ],
   "source": [
    "from collections import defaultdict\n",
    "user_movie_rating = defaultdict(lambda :defaultdict(int))\n",
    "\n",
    "# Initialize ratings for Alice\n",
    "user_movie_rating[\"Alice\"][\"LOR1\"] = 4\n",
    "user_movie_rating[\"Alice\"][\"LOR2\"] = 5\n",
    "user_movie_rating[\"Alice\"][\"LOR3\"] = 3\n",
    "user_movie_rating[\"Alice\"][\"SW1\"] = 5\n",
    "user_movie_rating[\"Alice\"][\"SW2\"] = 3\n",
    "\n",
    "# Initialize ratings for Huntsman\n",
    "user_movie_rating[\"Huntsman\"][\"LOR1\"] = 1\n",
    "user_movie_rating[\"Huntsman\"][\"LOR2\"] = 2\n",
    "user_movie_rating[\"Huntsman\"][\"LOR3\"] = 1\n",
    "user_movie_rating[\"Huntsman\"][\"SW1\"] = 4\n",
    "user_movie_rating[\"Huntsman\"][\"SW2\"] = 4\n",
    "\n",
    "# Initialize ratings for Snipe\n",
    "user_movie_rating[\"Snipe\"][\"LOR1\"] = 3\n",
    "user_movie_rating[\"Snipe\"][\"LOR2\"] = 4\n",
    "user_movie_rating[\"Snipe\"][\"LOR3\"] = 4\n",
    "user_movie_rating[\"Snipe\"][\"SW1\"] = 2\n",
    "user_movie_rating[\"Snipe\"][\"SW2\"] = 1\n",
    "\n",
    "print user_movie_rating"
   ]
  },
  {
   "cell_type": "markdown",
   "metadata": {},
   "source": [
    "### Working with tuples\n",
    "\n",
    "Tuples are immutable and can have a heterogeneous sequence of elements separated by a comma and\n",
    "enclosed in parentheses. They support the following operations:\n",
    "- in and not in\n",
    "- Comparision, concatenation, slicing, and indexing\n",
    "- min() and max()"
   ]
  },
  {
   "cell_type": "code",
   "execution_count": 13,
   "metadata": {
    "collapsed": false
   },
   "outputs": [
    {
     "name": "stdout",
     "output_type": "stream",
     "text": [
      "(1, 2, 'a')\n",
      "(1, 2, 'c')\n",
      "1\n",
      "c\n",
      "Cannot change value of tuple by index\n",
      "(1, 2, [100, 20, 30])\n",
      "(1, 2, 'a', 1, 2, 'c')\n",
      "(2, 3, 4, 5, 6, 7, 8, 9, 10)\n",
      "(2, 3)\n",
      "(2, 4, 6)\n",
      "(1, 2, 3, 4, 5, 6, 7, 8, 9)\n",
      "(10, 9, 8, 7, 6, 5, 4, 3, 2, 1)\n",
      "1 10\n",
      "Element 1 is avalilable in tuple a\n"
     ]
    }
   ],
   "source": [
    "# 1. Ways of creating a tuple\n",
    "a_tuple = (1,2,'a')\n",
    "b_tuple = 1,2,'c'\n",
    "\n",
    "print a_tuple\n",
    "print b_tuple\n",
    "\n",
    "# 2. Accessing elements of a tuple through index\n",
    "print b_tuple[0]\n",
    "print b_tuple[-1]\n",
    "\n",
    "# 3.It is not possible to change the value of an item in a tuple,\n",
    "# for example the next statement will result in an error.\n",
    "try:\n",
    "    b_tuple[0] = 20\n",
    "except:\n",
    "    print \"Cannot change value of tuple by index\"\n",
    "\n",
    "# 4.Though tuples are immutable\n",
    "# But elements of a tuple can be mutable objects,\n",
    "# for instance a list, as in the following line of code\n",
    "c_tuple =(1,2,[10,20,30])\n",
    "c_tuple[2][0] = 100\n",
    "print c_tuple\n",
    "# 5.Tuples once created cannot be extended like list,\n",
    "# however two tuples can be concatenated.\n",
    "print a_tuple + b_tuple\n",
    "\n",
    "# 6.Slicing of tuples\n",
    "a =(1,2,3,4,5,6,7,8,9,10)\n",
    "print a[1:]\n",
    "print a[1:3]\n",
    "print a[1:6:2]\n",
    "print a[:-1]\n",
    "print a[::-1]\n",
    "\n",
    "# 7. Tuple min max\n",
    "print min(a),max(a)\n",
    "\n",
    "#8. in and not in\n",
    "if 1 in a:\n",
    "    print \"Element 1 is avalilable in tuple a\"\n",
    "else:\n",
    "    print \"Element 1 is not available in tuple a\"\n",
    "    \n"
   ]
  },
  {
   "cell_type": "markdown",
   "metadata": {},
   "source": [
    "**Tip** :\n",
    "While building programs for machine learning, in particular during the feature generation\n",
    "from raw data, creating feature tuples ensures that values cannot be changed by\n",
    "downstream programs.\n",
    "\n",
    "### Using Sets\n",
    "\n",
    "Sets are very similar to list data structures except that they do not allow duplicates. It’s an\n",
    "unordered collection of homogeneous elements. Typically, sets are used to remove the\n",
    "duplicate elements from a list. However, a set supports operations such as intersection,\n",
    "union, difference, and symmetric difference. These operations are very handy in a lot of\n",
    "use cases."
   ]
  },
  {
   "cell_type": "code",
   "execution_count": 15,
   "metadata": {
    "collapsed": false
   },
   "outputs": [
    {
     "name": "stdout",
     "output_type": "stream",
     "text": [
      "No words in sent_1 = 3\n",
      "Sentence 1 words = set(['cats', 'dogs', 'chase'])\n",
      "No words in sent_2 = 3\n",
      "Sentence 2 words = set(['cats', 'hate', 'dogs'])\n",
      "No words in common = 2\n",
      "Common words = set(['cats', 'dogs'])\n",
      "Total unique words = 4\n",
      "Unique words= set(['cats', 'hate', 'dogs', 'chase'])\n",
      "Similarity = No words in common/No unique words, 2/4 = 0.50\n"
     ]
    }
   ],
   "source": [
    "# In our example, we will calculate a similarity score between two sentences using Jaccard’s coefficient\n",
    "\n",
    "# 1.Initialize two sentences.\n",
    "st_1 = \"dogs chase cats\"\n",
    "st_2 = \"dogs hate cats\"\n",
    "\n",
    "# 2.Create set of words from strings\n",
    "st_1_wrds = set(st_1.split())\n",
    "st_2_wrds = set(st_2.split())\n",
    "\n",
    "# 3.Find out the number of unique words in each set, vocabulary size.\n",
    "no_wrds_st_1 = len(st_1_wrds)\n",
    "no_wrds_st_2 = len(st_2_wrds)\n",
    "\n",
    "# 4.Find out the list of common words between the two sets.\n",
    "# Also find out the count of common words.\n",
    "cmn_wrds = st_1_wrds.intersection(st_2_wrds)\n",
    "no_cmn_wrds = len(st_1_wrds.intersection(st_2_wrds))\n",
    "\n",
    "# 5.Get a list of unique words between the two sets.\n",
    "# Also find out the count of unique words.\n",
    "unq_wrds = st_1_wrds.union(st_2_wrds)\n",
    "no_unq_wrds = len(st_1_wrds.union(st_2_wrds))\n",
    "\n",
    "# 6.Calculate Jaccard similarity\n",
    "similarity = no_cmn_wrds / (1.0 * no_unq_wrds)\n",
    "\n",
    "# 7.Let us now print to grasp our output.\n",
    "print \"No words in sent_1 = %d\"%(no_wrds_st_1)\n",
    "print \"Sentence 1 words =\", st_1_wrds\n",
    "print \"No words in sent_2 = %d\"%(no_wrds_st_2)\n",
    "print \"Sentence 2 words =\", st_2_wrds\n",
    "print \"No words in common = %d\"%(no_cmn_wrds)\n",
    "print \"Common words =\", cmn_wrds\n",
    "print \"Total unique words = %d\"%(no_unq_wrds)\n",
    "print \"Unique words=\",unq_wrds\n",
    "print \"Similarity = No words in common/No unique words, %d/%d = %.2f\"%(no_cmn_wrds,no_unq_wrds,similarity)\n"
   ]
  },
  {
   "cell_type": "markdown",
   "metadata": {},
   "source": [
    "We can use the built-in functions from libraries such as scikit-learn"
   ]
  },
  {
   "cell_type": "code",
   "execution_count": 18,
   "metadata": {
    "collapsed": false
   },
   "outputs": [
    {
     "name": "stdout",
     "output_type": "stream",
     "text": [
      "[1, 0, 1, 1]\n",
      "[1, 1, 1, 0]\n",
      "0.5\n"
     ]
    }
   ],
   "source": [
    "# Load libraries\n",
    "from sklearn.metrics import jaccard_similarity_score\n",
    "\n",
    "# 1.Initialize two sentences.\n",
    "st_1 = \"dogs chase cats\"\n",
    "st_2 = \"dogs hate cats\"\n",
    "\n",
    "# 2.Create set of words from strings\n",
    "st_1_wrds = set(st_1.split())\n",
    "st_2_wrds = set(st_2.split())\n",
    "\n",
    "unq_wrds = st_1_wrds.union(st_2_wrds)\n",
    "\n",
    "a =[ 1 if w in st_1_wrds else 0 for w in unq_wrds ]\n",
    "b =[ 1 if w in st_2_wrds else 0 for w in unq_wrds]\n",
    "\n",
    "print a\n",
    "print b\n",
    "print jaccard_similarity_score(a,b)\n"
   ]
  },
  {
   "cell_type": "markdown",
   "metadata": {},
   "source": [
    "### Writing a List\n",
    "\n",
    "They are similar to tuples except that they are homogenous and mutable. A list allows append operations. They can also be used as either a stack or queue. Unlike tuples, lists are expandable;you can add elements to a list\n",
    "using the append function after its creation."
   ]
  },
  {
   "cell_type": "code",
   "execution_count": 22,
   "metadata": {
    "collapsed": false
   },
   "outputs": [
    {
     "name": "stdout",
     "output_type": "stream",
     "text": [
      "[1, 2, 3, 4, 5, 6, 7, 8, 9]\n",
      "['a', 'b', 'c']\n",
      "1\n",
      "[2, 3]\n",
      "[2, 3, 4, 5, 6, 7, 8, 9]\n",
      "[9]\n",
      "[1, 2, 3, 4, 5, 6, 7, 8]\n",
      "[1, 2, 3, 4]\n",
      "1 2\n",
      "Element 1 is available in list a\n",
      "[1, 2, 3, 4, 5, 6, 7, 8, 9]\n",
      "[1, 2, 3, 4, 5, 6, 7, 8, 9, 10]\n",
      "3\n",
      "2\n",
      "1\n",
      "1\n",
      "2\n",
      "3\n",
      "[18, 17, 5, 16, 7, 8, 13, 15, 2, 14, 19, 6, 11, 12, 10, 3, 4, 9, 1]\n",
      "[1, 2, 3, 4, 5, 6, 7, 8, 9, 10, 11, 12, 13, 14, 15, 16, 17, 18, 19]\n",
      "[19, 18, 17, 16, 15, 14, 13, 12, 11, 10, 9, 8, 7, 6, 5, 4, 3, 2, 1]\n"
     ]
    }
   ],
   "source": [
    "# 1.Let us look at a quick example of list creation.\n",
    "a = range(1,10)\n",
    "print a\n",
    "b = [\"a\",\"b\",\"c\"]\n",
    "print b\n",
    "\n",
    "# 2.List can be accessed through indexing. Indexing starts at 0.\n",
    "print a[0]\n",
    "# 3.With negative indexing the elements of a list are accessed from backwards.\n",
    "a[-1]\n",
    "# 4.Slicing is accessing a subset of list by providing two indices.\n",
    "print a[1:3] # prints [2, 3]\n",
    "print a[1:] # prints [2, 3, 4, 5, 6, 7, 8, 9]\n",
    "print a[-1:] # prints [9]\n",
    "print a[:-1] # prints [1, 2, 3, 4, 5, 6, 7, 8]\n",
    "\n",
    "#5.List concatenation\n",
    "a = [1,2]\n",
    "b = [3,4]\n",
    "print a + b # prints [1, 2, 3, 4]\n",
    "# 6. List min max\n",
    "print min(a),max(a)\n",
    "# 7. in and not in\n",
    "if 1 in a:\n",
    "    print \"Element 1 is available in list a\"\n",
    "else:\n",
    "    print \"Element 1 is available in tuple a\"\n",
    "\n",
    "# 8. Appending and extending list\n",
    "a = range(1,10)\n",
    "print a\n",
    "a.append(10)\n",
    "print a\n",
    "# 9.List as a stack\n",
    "a_stack = []\n",
    "a_stack.append(1)\n",
    "a_stack.append(2)\n",
    "a_stack.append(3)\n",
    "print a_stack.pop()\n",
    "print a_stack.pop()\n",
    "print a_stack.pop()\n",
    "\n",
    "# 10.List as queue\n",
    "a_queue = []\n",
    "a_queue.append(1)\n",
    "a_queue.append(2)\n",
    "a_queue.append(3)\n",
    "print a_queue.pop(0)\n",
    "print a_queue.pop(0)\n",
    "print a_queue.pop(0)\n",
    "\n",
    "# 11. List sort and reverse\n",
    "from random import shuffle\n",
    "a = range(1,20)\n",
    "shuffle(a)\n",
    "print a\n",
    "a.sort()\n",
    "print a\n",
    "\n",
    "a.reverse()\n",
    "print a"
   ]
  },
  {
   "cell_type": "markdown",
   "metadata": {},
   "source": [
    "### Creating a list from another list - list comprehension\n",
    "\n",
    "Comprehension is a way to create a sequence from another sequence. \n",
    "Typically, a list comprehension involves the following features:\n",
    "- A sequence, say a list whose elements we are interested in\n",
    "- A variable representing the elements of the sequence\n",
    "- An output expression that is responsible for producing the output sequence using the elements of the input sequence\n",
    "- An optional predicate expression"
   ]
  },
  {
   "cell_type": "code",
   "execution_count": 23,
   "metadata": {
    "collapsed": false
   },
   "outputs": [
    {
     "name": "stdout",
     "output_type": "stream",
     "text": [
      "[1, 4, 9, 16]\n"
     ]
    }
   ],
   "source": [
    "# 1. Let us define a simple list with some positive and negative numbers.\n",
    "a = [1,2,-1,-2,3,4,-3,-4]\n",
    "\n",
    "# 2. Now let us write our list comprehension.\n",
    "# pow() a power function takes two input and\n",
    "# its output is the first variable raised to the power of the second.\n",
    "b = [pow(x,2) for x in a if x < 0]\n",
    "\n",
    "# 3. Finally let us see the output, i.e. the newly created list b.\n",
    "print b"
   ]
  },
  {
   "cell_type": "markdown",
   "metadata": {},
   "source": [
    "The comprehension syntax is exactly the same as a dictionary. A simple example will\n",
    "illustrate the following:"
   ]
  },
  {
   "cell_type": "code",
   "execution_count": 24,
   "metadata": {
    "collapsed": false
   },
   "outputs": [
    {
     "name": "stdout",
     "output_type": "stream",
     "text": [
      "{'a': 1, 'c': 9, 'b': 4}\n"
     ]
    }
   ],
   "source": [
    "a = {'a':1,'b':2,'c':3}\n",
    "b = {x:pow(y,2) for x,y in a.items()}\n",
    "print b"
   ]
  },
  {
   "cell_type": "markdown",
   "metadata": {},
   "source": [
    "We can do comprehension for tuples with a small trick. See the following example:"
   ]
  },
  {
   "cell_type": "code",
   "execution_count": 25,
   "metadata": {
    "collapsed": false
   },
   "outputs": [
    {
     "name": "stdout",
     "output_type": "stream",
     "text": [
      "(1, 4, 1, 4, 'd', 9, 16, 9, 'a')\n"
     ]
    }
   ],
   "source": [
    "def process(x):\n",
    "    if isinstance(x,str):\n",
    "        return x.lower()\n",
    "    elif isinstance(x,int):\n",
    "        return x*x\n",
    "    else:\n",
    "        return -9\n",
    "a = (1,2,-1,-2,'D',3,4,-3,'A')\n",
    "b = tuple(process(x) for x in a )\n",
    "print b"
   ]
  },
  {
   "cell_type": "markdown",
   "metadata": {},
   "source": [
    "### Using iterators\n",
    "\n",
    "For using data in chunks and to iterate through the data we can use iterators.An iterator in Python implements an iterator pattern. It allows us to go over a sequence one by one without materializing the whole sequence!\n",
    "\n",
    "Let’s create a simple iterator called simple counter and provide it with some code on how\n",
    "to effectively use the iterator:"
   ]
  },
  {
   "cell_type": "code",
   "execution_count": 37,
   "metadata": {
    "collapsed": false
   },
   "outputs": [
    {
     "name": "stdout",
     "output_type": "stream",
     "text": [
      "<__main__.SimpleCounter object at 0x05A6E1F0>\n",
      "try next\n",
      "1\n",
      "2\n",
      "3\n",
      "loop c\n"
     ]
    },
    {
     "name": "stderr",
     "output_type": "stream",
     "text": [
      "Traceback (most recent call last):\n",
      "  File \"<ipython-input-37-d9d4294da432>\", line 29, in <module>\n",
      "    print c.next()\n",
      "  File \"<ipython-input-37-d9d4294da432>\", line 15, in next\n",
      "    raise StopIteration\n",
      "StopIteration\n"
     ]
    }
   ],
   "source": [
    "import traceback\n",
    "# 1. Let us write a simple iterator.\n",
    "class SimpleCounter(object):\n",
    "    def __init__(self, start, end):\n",
    "        self.current = start\n",
    "        self.end = end\n",
    "    \n",
    "    def __iter__(self):\n",
    "        'Returns itself as an iterator object'\n",
    "        return self\n",
    "\n",
    "    def next(self):\n",
    "        'Returns the next value till current is lower than end'\n",
    "        if self.current > self.end:\n",
    "            raise StopIteration\n",
    "        else:\n",
    "            self.current += 1\n",
    "            return self.current - 1\n",
    "\n",
    "c = SimpleCounter(1,3)\n",
    "print c\n",
    "\n",
    "# 2. Now let us try to access the iterator\n",
    "print \"try next\"\n",
    "try:\n",
    "    print c.next()\n",
    "    print c.next()\n",
    "    print c.next()\n",
    "    print c.next()\n",
    "except:\n",
    "    traceback.print_exc()\n",
    "\n",
    "\n",
    "# 3. Another way to access\n",
    "print \"loop c\"\n",
    "for entry in iter(c):\n",
    "    print entry\n",
    "\n"
   ]
  },
  {
   "cell_type": "markdown",
   "metadata": {},
   "source": [
    "### Generating an iterator and a generator\n",
    "\n",
    "Generators provide a clean syntax to loop through a sequence of values eliminating the\n",
    "need to have the two functions, __iter__ and next(). We don’t have to write a class. A\n",
    "point to note is that both generators and iterables produce an iterator."
   ]
  },
  {
   "cell_type": "code",
   "execution_count": 32,
   "metadata": {
    "collapsed": false
   },
   "outputs": [
    {
     "name": "stdout",
     "output_type": "stream",
     "text": [
      "<generator object <genexpr> at 0x05A5FA08>\n",
      "285\n"
     ]
    }
   ],
   "source": [
    "SimpleCounter = (x**2 for x in range(1,10))\n",
    "tot = 0\n",
    "print SimpleCounter\n",
    "for val in SimpleCounter:\n",
    "    tot+=val\n",
    "print tot"
   ]
  },
  {
   "cell_type": "code",
   "execution_count": 33,
   "metadata": {
    "collapsed": false
   },
   "outputs": [
    {
     "name": "stdout",
     "output_type": "stream",
     "text": [
      "285\n"
     ]
    }
   ],
   "source": [
    "def my_gen(low,high):\n",
    "    for x in range(low,high):\n",
    "        yield x**2\n",
    "tot = 0\n",
    "for val in my_gen(1,10):\n",
    "    tot+=val\n",
    "print tot"
   ]
  },
  {
   "cell_type": "markdown",
   "metadata": {},
   "source": [
    "In the previous section, we mentioned that both a generator and iterables produce an\n",
    "iterator. Let’s validate this by trying to call the generator using the iter function:"
   ]
  },
  {
   "cell_type": "code",
   "execution_count": 34,
   "metadata": {
    "collapsed": false
   },
   "outputs": [
    {
     "name": "stdout",
     "output_type": "stream",
     "text": [
      "1\n",
      "4\n",
      "9\n",
      "16\n",
      "25\n",
      "36\n",
      "49\n",
      "64\n",
      "81\n"
     ]
    }
   ],
   "source": [
    "gen = (x**2 for x in range(1,10))\n",
    "for val in iter(gen):\n",
    "    print val"
   ]
  },
  {
   "cell_type": "markdown",
   "metadata": {},
   "source": [
    "### Using iterables\n",
    "\n",
    "Iterables are similar to generators except for a key difference, we can go on and on with an\n",
    "iterable, that is, once we have exhausted all the elements in a sequence, we can again start\n",
    "accessing it from the beginning unlike a generator.\n",
    "They are object-based generators that do not hold any state. Any class with the iter\n",
    "method that yields data can be used as a stateless object generator."
   ]
  },
  {
   "cell_type": "code",
   "execution_count": 38,
   "metadata": {
    "collapsed": false
   },
   "outputs": [
    {
     "name": "stdout",
     "output_type": "stream",
     "text": [
      "285\n",
      "285\n"
     ]
    }
   ],
   "source": [
    "# 1. Let us define a simple class with __iter__ method.\n",
    "class SimpleIterable(object):\n",
    "    def __init__(self, start, end):\n",
    "        self.start = start\n",
    "        self.end = end\n",
    "    def __iter__(self):\n",
    "        for x in range(self.start,self.end):\n",
    "            yield x**2\n",
    "\n",
    "# Now let us invoke this class and iterate over its values two times.\n",
    "c = SimpleIterable(1,10)\n",
    "\n",
    "# First iteration\n",
    "tot = 0\n",
    "for val in iter(c):\n",
    "    tot+=val\n",
    "print tot\n",
    "# Second iteration\n",
    "tot =0\n",
    "for val in iter(c):\n",
    "    tot+=val\n",
    "print tot"
   ]
  },
  {
   "cell_type": "markdown",
   "metadata": {},
   "source": [
    "### Passing a function as a variable\n",
    "\n",
    "Functions are first-class citizens in Python. They have attributes and they can be referenced and assigned to a variable.\n",
    "Let’s look at the paradigm of passing a function as a variable in Python in this section."
   ]
  },
  {
   "cell_type": "code",
   "execution_count": 39,
   "metadata": {
    "collapsed": false
   },
   "outputs": [
    {
     "name": "stdout",
     "output_type": "stream",
     "text": [
      "25\n"
     ]
    }
   ],
   "source": [
    "# 1.Let us define a simple function.\n",
    "def square_input(x):\n",
    "    return x*x\n",
    "# We will follow it by assigning that function to a variable\n",
    "square_me = square_input\n",
    "# And finally invoke the variable\n",
    "print square_me(5)"
   ]
  },
  {
   "cell_type": "markdown",
   "metadata": {},
   "source": [
    "### Embedding functions in another function\n",
    "This recipe will explain yet another functional programming construct; defining a function\n",
    "in another function."
   ]
  },
  {
   "cell_type": "code",
   "execution_count": 41,
   "metadata": {
    "collapsed": false
   },
   "outputs": [
    {
     "name": "stdout",
     "output_type": "stream",
     "text": [
      "45\n"
     ]
    }
   ],
   "source": [
    "# 1. Let us define a function of function to find the sum of squares of the given input\n",
    "def sum_square(x):\n",
    "    def square_input(x):\n",
    "        return x*x\n",
    "    return sum([square_input(x1) for x1 in x])\n",
    "\n",
    "# Print the output to check for correctness\n",
    "print sum_square([2,4,5])"
   ]
  },
  {
   "cell_type": "markdown",
   "metadata": {},
   "source": [
    "### Passing a function as a parameter\n",
    "\n",
    "Python supports higher order functions, that is, functions that can accept other functions as\n",
    "arguments."
   ]
  },
  {
   "cell_type": "code",
   "execution_count": 42,
   "metadata": {
    "collapsed": false
   },
   "outputs": [
    {
     "name": "stdout",
     "output_type": "stream",
     "text": [
      "[4, 9, 16]\n",
      "[0.6931471805599453, 1.0986122886681098, 1.3862943611198906]\n"
     ]
    }
   ],
   "source": [
    "from math import log\n",
    "def square_input(x):\n",
    "    return x*x\n",
    "# 1. Define a generic function, which will take another function as input\n",
    "# and will apply it on the given input sequence.\n",
    "def apply_func(func_x,input_x):\n",
    "    return map(func_x,input_x)\n",
    "\n",
    "# Let us try to use the apply_func() and verify the results\n",
    "a = [2,3,4]\n",
    "print apply_func(square_input,a)\n",
    "print apply_func(log,a)"
   ]
  },
  {
   "cell_type": "markdown",
   "metadata": {},
   "source": [
    "### Returning a function\n",
    "In this section, let’s look at the functions that will return another function."
   ]
  },
  {
   "cell_type": "code",
   "execution_count": 43,
   "metadata": {
    "collapsed": false
   },
   "outputs": [
    {
     "name": "stdout",
     "output_type": "stream",
     "text": [
      "Volume of cylinder of radius 10 and height 10 = 3141.00 cubic units\n",
      "Volume of cylinder of radius 10 and height 20 = 6282.00 cubic units\n"
     ]
    }
   ],
   "source": [
    "# 1. Let us define a function which will explain our\n",
    "# concept of function returning a function.\n",
    "def cylinder_vol(r):\n",
    "    pi = 3.141\n",
    "    def get_vol(h):\n",
    "        return pi * r**2 * h\n",
    "    return get_vol\n",
    "\n",
    "# 2. Let us define a radius and find get a volume function,\n",
    "# which can now find out the volume for the given radius and any height.\n",
    "radius = 10\n",
    "find_volume = cylinder_vol(radius)\n",
    "\n",
    "# 3. Let us try to find out the volume for different heights\n",
    "height = 10\n",
    "print \"Volume of cylinder of radius %d and height %d = %.2f cubic units\" \\\n",
    "%(radius,height,find_volume(height))\n",
    "\n",
    "height = 20\n",
    "print \"Volume of cylinder of radius %d and height %d = %.2f cubic units\" \\\n",
    "%(radius,height,find_volume(height))\n"
   ]
  },
  {
   "cell_type": "markdown",
   "metadata": {},
   "source": [
    "Functools is a module for higher order functions:\n",
    "https://docs.python.org/2/library/functools.html\n",
    "\n",
    "### Altering the function behavior with decorators\n",
    "\n",
    "Decorators wrap a function and alter their behavior"
   ]
  },
  {
   "cell_type": "code",
   "execution_count": 45,
   "metadata": {
    "collapsed": false
   },
   "outputs": [
    {
     "name": "stdout",
     "output_type": "stream",
     "text": [
      "['string', 'with', 'punctuation']\n"
     ]
    }
   ],
   "source": [
    "from string import punctuation\n",
    "\n",
    "def pipeline_wrapper(func):\n",
    "    def to_lower(x):\n",
    "        return x.lower()\n",
    "\n",
    "    def remove_punc(x):\n",
    "        for p in punctuation:\n",
    "            x = x.replace(p,'')\n",
    "        return x\n",
    "\n",
    "    def wrapper(*args,**kwargs):\n",
    "        x = to_lower(*args,**kwargs)\n",
    "        x = remove_punc(x)\n",
    "        return func(x)\n",
    "    \n",
    "    return wrapper\n",
    "\n",
    "@pipeline_wrapper\n",
    "def tokenize_whitespace(inText):\n",
    "    return inText.split()\n",
    "\n",
    "s = \"string. With. Punctuation?\"\n",
    "print tokenize_whitespace(s)"
   ]
  },
  {
   "cell_type": "markdown",
   "metadata": {},
   "source": [
    "### Creating anonymous functions with lambda\n",
    "\n",
    "Anonymous functions are created using the lambda statement in Python. Functions that\n",
    "are not bound to a name are called anonymous functions."
   ]
  },
  {
   "cell_type": "code",
   "execution_count": 56,
   "metadata": {
    "collapsed": false
   },
   "outputs": [
    {
     "name": "stdout",
     "output_type": "stream",
     "text": [
      "1400\n",
      "36000\n",
      "True\n",
      "True\n",
      "True\n"
     ]
    }
   ],
   "source": [
    "# 1. Create a simple list and a function similar to the\n",
    "# one in functions as parameter section.\n",
    "a =[10,20,30]\n",
    "\n",
    "def do_list(a_list,func):\n",
    "    total = 0\n",
    "    for element in a_list:\n",
    "        total+=func(element)\n",
    "    return total\n",
    "\n",
    "print do_list(a,lambda x:x**2)\n",
    "print do_list(a,lambda x:x**3)\n",
    "b =[lambda x: x%3 ==0 for x in a ]\n",
    "for f in b:\n",
    "    print f(3)\n"
   ]
  },
  {
   "cell_type": "markdown",
   "metadata": {},
   "source": [
    "### Using the map function\n",
    "\n",
    "Map is a built-in Python function. It takes a function and an iterable for an argument:\n",
    "map(aFunction, iterable)\n",
    "The function is applied on all the elements of the iterable and results are returned as a list.\n",
    "As a function is passed to map, lambda is most commonly used along with map."
   ]
  },
  {
   "cell_type": "code",
   "execution_count": 57,
   "metadata": {
    "collapsed": false
   },
   "outputs": [
    {
     "name": "stdout",
     "output_type": "stream",
     "text": [
      "[100, 400, 900]\n"
     ]
    }
   ],
   "source": [
    "#First let us declare a list.\n",
    "a =[10,20,30]\n",
    "\n",
    "# Let us now call the map function in our Print statement.\n",
    "print map(lambda x:x**2,a)"
   ]
  },
  {
   "cell_type": "code",
   "execution_count": 58,
   "metadata": {
    "collapsed": false
   },
   "outputs": [
    {
     "name": "stdout",
     "output_type": "stream",
     "text": [
      "1400\n",
      "36000\n"
     ]
    }
   ],
   "source": [
    "print sum(map(lambda x:x**2,a))\n",
    "print sum(map(lambda x:x**3,a))"
   ]
  },
  {
   "cell_type": "code",
   "execution_count": 59,
   "metadata": {
    "collapsed": false
   },
   "outputs": [
    {
     "name": "stdout",
     "output_type": "stream",
     "text": [
      "[10, 400, 27000]\n"
     ]
    }
   ],
   "source": [
    "# Map expects an N-argument function if we have N-sequences. Let’s see an example to understand this:\n",
    "a =[10,20,30]\n",
    "b = [1,2,3]\n",
    "\n",
    "print map(pow,a,b)"
   ]
  },
  {
   "cell_type": "markdown",
   "metadata": {},
   "source": [
    "### Working with filters\n",
    "\n",
    "Filter filters elements from a sequence based on the given function. \n",
    "Filter is a built-in Python function. It takes a function and an iterable for an argument:\n",
    "Filter(aFunction, iterable)\n",
    "The function that is passed as an argument is returned as a Boolean value based on a test.\n",
    "The function is applied on all the elements of the iterable and all the items that are\n",
    "returned as true when the function is applied over them are returned as a list. An\n",
    "anonymous function, lambda, is most commonly used along with filter.\n"
   ]
  },
  {
   "cell_type": "code",
   "execution_count": 60,
   "metadata": {
    "collapsed": false
   },
   "outputs": [
    {
     "name": "stdout",
     "output_type": "stream",
     "text": [
      "[20, 30, 40, 50]\n"
     ]
    }
   ],
   "source": [
    "# Let us declare a list.\n",
    "a = [10,20,30,40,50]\n",
    "# Let us apply Filter function on all the elements of the list.\n",
    "print filter(lambda x:x>10,a)"
   ]
  },
  {
   "cell_type": "markdown",
   "metadata": {},
   "source": [
    "### Using zip and izip\n",
    "\n",
    "Zip takes two equal length collections and merges them together in pairs. Zip is a built-in\n",
    "Python function."
   ]
  },
  {
   "cell_type": "code",
   "execution_count": 61,
   "metadata": {
    "collapsed": false
   },
   "outputs": [
    {
     "name": "stdout",
     "output_type": "stream",
     "text": [
      "[(1, 1), (2, 2), (3, 3), (4, 4)]\n"
     ]
    }
   ],
   "source": [
    "print zip(range(1,5),range(1,5))"
   ]
  },
  {
   "cell_type": "code",
   "execution_count": 66,
   "metadata": {
    "collapsed": false
   },
   "outputs": [
    {
     "name": "stdout",
     "output_type": "stream",
     "text": [
      "8\n"
     ]
    }
   ],
   "source": [
    "# Let’s see what the * operator does. A * operator unpacks a collection in their positional arguments:\n",
    "a =(2,3)\n",
    "print pow(*a)"
   ]
  },
  {
   "cell_type": "code",
   "execution_count": 63,
   "metadata": {
    "collapsed": false
   },
   "outputs": [
    {
     "name": "stdout",
     "output_type": "stream",
     "text": [
      "0\n"
     ]
    }
   ],
   "source": [
    "#The ** operator unpacks a dictionary as a set of named arguments. In this case, we will get \n",
    "#an output,6, when we apply the ** operator to a dictionary\n",
    "\n",
    "def dist(x,y,z,x1,y1,z1):\n",
    "    return abs((x-x1)+(y-y1)+(z-z1))\n",
    "\n",
    "a_dict = {\"x\":10,\"y\":10,\"z\":10,\"x1\":10,\"y1\":10,\"z1\":10}\n",
    "\n",
    "print dist(**a_dict)"
   ]
  },
  {
   "cell_type": "code",
   "execution_count": 64,
   "metadata": {
    "collapsed": false
   },
   "outputs": [
    {
     "name": "stdout",
     "output_type": "stream",
     "text": [
      "3\n",
      "6\n"
     ]
    }
   ],
   "source": [
    "def any_sum(*args):\n",
    "    tot = 0\n",
    "    for arg in args:\n",
    "        tot+=arg\n",
    "    return tot\n",
    "print any_sum(1,2)\n",
    "print any_sum(1,2,3)"
   ]
  },
  {
   "cell_type": "markdown",
   "metadata": {},
   "source": [
    "### Processing arrays from the tabular data\n",
    "\n",
    "Typically, data is available as a text file, separated by either a comma or tab. A Python\n",
    "built-in file object utility can be used in this case. As we saw earlier, a file object\n",
    "implements the __iter__() and next() methods. \n",
    "\n",
    "This allows us to work on very large files, which do not fit into memory, by reading only a small chunk of the files at a time.Python machine learning libraries such as scikit-learn works on the NumPy libraries. In\n",
    "this section, we will see ways of efficiently reading external data and converting it to numPy arrays for the downstream data processing."
   ]
  },
  {
   "cell_type": "code",
   "execution_count": 70,
   "metadata": {
    "collapsed": false
   },
   "outputs": [
    {
     "data": {
      "text/plain": [
       "array([(10, 20, 30), (56, 89, 90), (33, 46, 89)], \n",
       "      dtype=[('a', '<i4'), ('b', '<i4'), ('c', '<i4')])"
      ]
     },
     "execution_count": 70,
     "metadata": {},
     "output_type": "execute_result"
    }
   ],
   "source": [
    "# 1. Let us simulate a small tablular input using StringIO\n",
    "import numpy as np\n",
    "from StringIO import StringIO\n",
    "in_data = StringIO(\"10,20,30\\n56,89,90\\n33,46,89\")\n",
    "\n",
    "# 2.Read the input using numpy genfromtext to create a nummpy array.\n",
    "data = np.genfromtxt(in_data,dtype=int,delimiter=\",\")\n",
    "print data\n",
    "\n",
    "# cases where we may not need to use some columns.\n",
    "in_data = StringIO(\"10,20,30\\n56,89,90\\n33,46,89\")\n",
    "data = np.genfromtxt(in_data,dtype=int,delimiter=\",\",usecols=(0,1))\n",
    "print data\n",
    "\n",
    "# providing column names\n",
    "in_data = StringIO(\"10,20,30\\n56,89,90\\n33,46,89\")\n",
    "data = np.genfromtxt(in_data,dtype=int,delimiter=\",\",names=\"a,b,c\")\n",
    "print data\n",
    "\n",
    "# using column names from data\n",
    "in_data = StringIO(\"a,b,c\\n10,20,30\\n56,89,90\\n33,46,89\")\n",
    "data = np.genfromtxt(in_data,dtype=int,delimiter=\",\",names=True)\n",
    "print data"
   ]
  },
  {
   "cell_type": "markdown",
   "metadata": {},
   "source": [
    "Another simple method from NumPy to create NumPy arrays from the text input is\n",
    "loadtxt:\n",
    "http://docs.scipy.org/doc/numpy/reference/generated/numpy.loadtxt.html\n",
    "This is less sophisticated than genfromtxt;\n",
    "\n",
    "\n",
    "### Preprocessing the columns\n",
    "\n",
    "Often the data that we get is not in the format we can consume. A lot of data processing\n",
    "called data preprocessing steps in machine learning terminology has to be applied. \n",
    "The genfromtext provides us with some functionalities in order to perform this data transformation while reading from the source.\n"
   ]
  },
  {
   "cell_type": "code",
   "execution_count": 72,
   "metadata": {
    "collapsed": false
   },
   "outputs": [
    {
     "name": "stdout",
     "output_type": "stream",
     "text": [
      "[[  3.00000000e+01   2.00000000e+03   3.11100000e+01   5.63300000e+01\n",
      "    1.00000000e+00]\n",
      " [  5.20000000e+01   8.00035000e+03   1.20000000e+01   1.67000000e+01\n",
      "    2.00000000e+00]]\n",
      "[[  10.   20.   30.]\n",
      " [  56. -999.   90.]\n",
      " [  33.   46.   89.]]\n"
     ]
    }
   ],
   "source": [
    "import numpy as np\n",
    "from StringIO import StringIO\n",
    "# Define a data set\n",
    "in_data = StringIO(\"30kg,inr2000,31.11,56.33,1\\n52kg,inr8000.35,12,16.7,2\")\n",
    "\n",
    "# 1.Let us define two data pre-processing using lambda functions,\n",
    "strip_func_1 = lambda x : float(x.rstrip(\"kg\"))\n",
    "strip_func_2 = lambda x : float(x.lstrip(\"inr\"))\n",
    "\n",
    "# 2.Let us now create a dictionary of these functions,\n",
    "convert_funcs = {0:strip_func_1,1:strip_func_2}\n",
    "\n",
    "# 3.Now provide this dictionary of functions to genfromtxt.\n",
    "data = np.genfromtxt(in_data,delimiter=\",\", converters=convert_funcs)\n",
    "\n",
    "print data\n",
    "\n",
    "# Using a lambda function to handle conversions\n",
    "in_data = StringIO(\"10,20,30\\n56,,90\\n33,46,89\")\n",
    "mss_func = lambda x : float(x.strip() or -999)\n",
    "data = np.genfromtxt(in_data,delimiter=\",\", converters={1:mss_func})\n",
    "\n",
    "print data"
   ]
  },
  {
   "cell_type": "markdown",
   "metadata": {},
   "source": [
    "Refer to the SciPy documentations given here for more details:\n",
    "http://docs.scipy.org/doc/numpy/reference/generated/numpy.loadtxt.html\n",
    "http://docs.scipy.org/doc/numpy/reference/generated/numpy.genfromtxt.html\n",
    "\n",
    "### Sorting lists\n",
    "\n",
    "We will start with sorting a list and then move on to sorting other iterables."
   ]
  },
  {
   "cell_type": "code",
   "execution_count": 75,
   "metadata": {
    "collapsed": false
   },
   "outputs": [
    {
     "name": "stdout",
     "output_type": "stream",
     "text": [
      "[8, 0, 3, 4, 5, 2, 9, 6, 7, 1]\n",
      "[0, 1, 2, 3, 4, 5, 6, 7, 8, 9]\n",
      "[8, 0, 3, 4, 5, 2, 9, 6, 7, 1]\n",
      "[0, 1, 2, 3, 4, 5, 6, 7, 8, 9]\n",
      "[9, 8, 7, 6, 5, 4, 3, 2, 1, 0]\n"
     ]
    },
    {
     "data": {
      "text/plain": [
       "[0, 1, 2, 3, 4, 5, 6, 7, 8, 9]"
      ]
     },
     "execution_count": 75,
     "metadata": {},
     "output_type": "execute_result"
    }
   ],
   "source": [
    "# Let us look at a very small code snippet, which does sorting of a given list.\n",
    "a = [8, 0, 3, 4, 5, 2, 9, 6, 7, 1]\n",
    "b = [8, 0, 3, 4, 5, 2, 9, 6, 7, 1]\n",
    "print a\n",
    "a.sort()\n",
    "\n",
    "print a\n",
    "print b\n",
    "\n",
    "b_s = sorted(b)\n",
    "print b_s\n",
    "\n",
    "a.sort(reverse=True)\n",
    "print a\n",
    "\n",
    "a = (8, 0, 3, 4, 5, 2, 9, 6, 7, 1)\n",
    "sorted(a)"
   ]
  },
  {
   "cell_type": "markdown",
   "metadata": {},
   "source": [
    "### Sorting with a key\n",
    "\n",
    "Let’s now proceed to see if we can sort it using keys. We will work out\n",
    "our examples through a list of tuples and the same applies to the other sequence objects."
   ]
  },
  {
   "cell_type": "code",
   "execution_count": 80,
   "metadata": {
    "collapsed": false
   },
   "outputs": [
    {
     "name": "stdout",
     "output_type": "stream",
     "text": [
      "[('beck', 2, 26), ('christ', 5, 33), ('ele', 6, 32), ('joe', 1, 53), ('neo', 3, 45), ('trinity', 4, 29)]\n",
      "[('joe', 1, 53), ('beck', 2, 26), ('neo', 3, 45), ('trinity', 4, 29), ('christ', 5, 33), ('ele', 6, 32)]\n",
      "[('beck', 2, 26), ('trinity', 4, 29), ('ele', 6, 32), ('christ', 5, 33), ('neo', 3, 45), ('joe', 1, 53)]\n",
      "[('beck', 2, 26), ('christ', 5, 33), ('ele', 6, 32), ('joe', 1, 53), ('neo', 3, 45), ('trinity', 4, 29)]\n",
      "[('joe', 1, 53), ('beck', 2, 26), ('neo', 3, 45), ('trinity', 4, 29), ('christ', 5, 33), ('ele', 6, 32)]\n",
      "[('beck', 2, 26), ('trinity', 4, 29), ('ele', 6, 32), ('christ', 5, 33), ('neo', 3, 45), ('joe', 1, 53)]\n",
      "[('beck', 2, 26), ('christ', 5, 33), ('ele', 6, 32), ('joe', 1, 53), ('neo', 3, 45), ('trinity', 4, 29)]\n"
     ]
    }
   ],
   "source": [
    "#1.The first step is to create a list of tuples, which we will use to test our sorting.\n",
    "employee_records = [ ('joe',1,53),('beck',2,26), \\\n",
    "('ele',6,32),('neo',3,45), \\\n",
    "('christ',5,33),('trinity',4,29), \\\n",
    "]\n",
    "\n",
    "# 2.Let us now sort it by employee name\n",
    "print sorted(employee_records,key=lambda emp : emp[0])\n",
    "\n",
    "# 3.Let us now sort it by employee id\n",
    "print sorted(employee_records,key=lambda emp : emp[1])\n",
    "\n",
    "# 4.Finally we sort it with employee age\n",
    "print sorted(employee_records,key=lambda emp : emp[2])\n",
    "\n",
    "from operator import itemgetter\n",
    "\n",
    "print sorted(employee_records,key=itemgetter(0))\n",
    "print sorted(employee_records,key=itemgetter(1))\n",
    "print sorted(employee_records,key=itemgetter(2))\n",
    "\n",
    "print sorted(employee_records,key=itemgetter(0,1))"
   ]
  },
  {
   "cell_type": "markdown",
   "metadata": {},
   "source": [
    "The attrgetter and methodcaller comes in handy when the elements of our iterable are\n",
    "class objects. Look at the following example:"
   ]
  },
  {
   "cell_type": "code",
   "execution_count": 82,
   "metadata": {
    "collapsed": false
   },
   "outputs": [
    {
     "name": "stdout",
     "output_type": "stream",
     "text": [
      "print records\n",
      "joe 1 53\n",
      "beck 2 26\n",
      "ele 6 32\n",
      "print attrgetter sorted records\n",
      "beck 2 26\n",
      "ele 6 32\n",
      "joe 1 53\n",
      "print methodcaller sorted records\n",
      "ele 6 32\n",
      "beck 2 26\n",
      "joe 1 53\n"
     ]
    }
   ],
   "source": [
    "# Let us now enclose the employee records as class objects,\n",
    "class employee(object):\n",
    "    def __init__(self,name,id,age):\n",
    "        self.name = name\n",
    "        self.id = id\n",
    "        self.age = age\n",
    "    def pretty_print(self):\n",
    "        print self.name,self.id,self.age\n",
    "    def random_method(self):\n",
    "        return self.age / self.id\n",
    "\n",
    "# Now let us populate a list with these class objects.\n",
    "employee_records = []\n",
    "emp1 = employee('joe',1,53)\n",
    "emp2 = employee('beck',2,26)\n",
    "emp3 = employee('ele',6,32)\n",
    "\n",
    "employee_records.append(emp1)\n",
    "employee_records.append(emp2)\n",
    "employee_records.append(emp3)\n",
    "\n",
    "# Print the records\n",
    "print \"print records\"\n",
    "for emp in employee_records:\n",
    "    emp.pretty_print()\n",
    "\n",
    "    \n",
    "print \"print attrgetter sorted records\"\n",
    "\n",
    "from operator import attrgetter\n",
    "employee_records_sorted = sorted(employee_records,key=attrgetter('age'))\n",
    "# Now let us print the sorted list,\n",
    "for emp in employee_records_sorted:\n",
    "    emp.pretty_print()\n",
    "\n",
    "print \"print methodcaller sorted records\"\n",
    "\n",
    "from operator import methodcaller\n",
    "employee_records_sorted = sorted(employee_records,key=methodcaller('random_method'))\n",
    "for emp in employee_records_sorted:\n",
    "    emp.pretty_print()\n"
   ]
  },
  {
   "cell_type": "markdown",
   "metadata": {},
   "source": [
    "### Working with itertools\n",
    "Itertools includes functions to work with iterables. \n",
    "Let’s proceed to see a set of Python scripts used to demonstrate the usage of itertools:\n"
   ]
  },
  {
   "cell_type": "code",
   "execution_count": 84,
   "metadata": {
    "collapsed": false
   },
   "outputs": [
    {
     "name": "stdout",
     "output_type": "stream",
     "text": [
      "[1, 2, 3, 'a', 'b', 'c']\n",
      "[1, 3]\n",
      "[(1, 2), (1, 3), (1, 4), (2, 3), (2, 4), (3, 4)]\n",
      "(1, 0)\n",
      "(2, 1)\n",
      "(3, 2)\n",
      "(4, 3)\n",
      "(5, 4)\n",
      "[0, 2, 4, 6, 8, 10, 12, 14, 16, 18, 20, 22, 24, 26, 28, 30, 32, 34, 36, 38, 40, 42, 44, 46, 48, 50, 52, 54, 56, 58, 60, 62, 64, 66, 68, 70, 72, 74, 76, 78, 80, 82, 84, 86, 88, 90, 92, 94, 96, 98]\n"
     ]
    }
   ],
   "source": [
    "# Load libraries\n",
    "from itertools import chain,compress,combinations,count,izip,islice\n",
    "\n",
    "# 1.Chain example, where different iterables can be combined together.\n",
    "a = [1,2,3]\n",
    "b = ['a','b','c']\n",
    "print list(chain(a,b)) # prints [1, 2, 3, 'a', 'b', 'c']\n",
    "\n",
    "# 2.Compress example, a data selector, where the data in the first iterator\n",
    "# is selected based on the second iterator.\n",
    "a = [1,2,3]\n",
    "b = [1,0,1]\n",
    "print list(compress(a,b)) # prints [1, 3]\n",
    "\n",
    "# 3.From a given list, return n length sub sequences.\n",
    "a = [1,2,3,4]\n",
    "print list(combinations(a,2)) # prints [(1, 2), (1, 3), (1, 4), (2, 3), (2,4), (3, 4)]\n",
    "\n",
    "# 4.A counter which produces infinite consequent integers, given a start integer,\n",
    "a = range(5)\n",
    "b = izip(count(1),a)\n",
    "for element in b:\n",
    "    print element\n",
    "\n",
    "# 5. Extract an iterator from another iterator,\n",
    "# let us say we want an iterator which only returns every\n",
    "# alternate elements from the input iterator\n",
    "a = range(100)\n",
    "b = islice(a,0,100,2)\n",
    "print list(b)\n"
   ]
  },
  {
   "cell_type": "code",
   "execution_count": null,
   "metadata": {
    "collapsed": true
   },
   "outputs": [],
   "source": []
  }
 ],
 "metadata": {
  "kernelspec": {
   "display_name": "Python 2",
   "language": "python",
   "name": "python2"
  },
  "language_info": {
   "codemirror_mode": {
    "name": "ipython",
    "version": 2
   },
   "file_extension": ".py",
   "mimetype": "text/x-python",
   "name": "python",
   "nbconvert_exporter": "python",
   "pygments_lexer": "ipython2",
   "version": "2.7.9"
  }
 },
 "nbformat": 4,
 "nbformat_minor": 0
}
